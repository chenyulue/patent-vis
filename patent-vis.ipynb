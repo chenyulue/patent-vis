{
 "cells": [
  {
   "cell_type": "code",
   "execution_count": 1,
   "metadata": {},
   "outputs": [],
   "source": [
    "# 导入专利可视化程序包及相关程序包\n",
    "import pandas as pd\n",
    "import matplotlib.pyplot as plt\n",
    "from datetime import datetime\n",
    "# 设置中文显示字体\n",
    "plt.rcParams['font.sans-serif'] = ['SimHei']       # 用黑体显示中文\n",
    "plt.rcParams['axes.unicode_minus'] = False  # 正常显示正负号"
   ]
  },
  {
   "cell_type": "markdown",
   "metadata": {},
   "source": [
    "# 第一部分 专利态势分析\n",
    "所谓专利态势分析，即对某一行业或技术领域的专利总体状况进行分析，通常是针对专利数量进行统计分析。基本的专利数量统计分析包括：\n",
    "* 申请趋势分析\n",
    "* 技术构成分析\n",
    "* 地域分布分析\n",
    "* 申请人排名分析"
   ]
  },
  {
   "cell_type": "markdown",
   "metadata": {},
   "source": [
    "## 一、申请趋势分析\n",
    "申请趋势分析常见的分析对象：\n",
    "* 申请量\n",
    "* 授权量\n",
    "* 有效量\n",
    "* 发明人数量\n",
    "* 申请人数量\n",
    "  \n",
    "申请趋势分析常用图表：\n",
    "* 折线图\n",
    "* 面积图\n",
    "* 柱形图\n",
    "  \n",
    "其中，折线图和面积图侧重表示较长时间段内的数量变化趋势，而柱形图侧重表示在短时间段内的数量变化情况，并突出每一个时间段的具体数量值。"
   ]
  },
  {
   "cell_type": "markdown",
   "metadata": {},
   "source": [
    "### 1. 折线图\n",
    "#### （1）标准折线图\n",
    "\n",
    "标准折线图在专利分析中常用来表示某一对象（如国家、地区、申请人、技术领域等）的专利申请量、授权量、有效量、发明人数量、申请人数量等随时间的变化情况"
   ]
  },
  {
   "cell_type": "code",
   "execution_count": 2,
   "metadata": {},
   "outputs": [],
   "source": [
    "data_211 = pd.read_csv('data/Fig2-1-1.csv', \n",
    "                       header=None,\n",
    "                       parse_dates=[0]).rename(columns={0:'年份', 1: '申请量'})"
   ]
  },
  {
   "cell_type": "code",
   "execution_count": 3,
   "metadata": {},
   "outputs": [
    {
     "data": {
      "text/html": [
       "<div>\n",
       "<style scoped>\n",
       "    .dataframe tbody tr th:only-of-type {\n",
       "        vertical-align: middle;\n",
       "    }\n",
       "\n",
       "    .dataframe tbody tr th {\n",
       "        vertical-align: top;\n",
       "    }\n",
       "\n",
       "    .dataframe thead th {\n",
       "        text-align: right;\n",
       "    }\n",
       "</style>\n",
       "<table border=\"1\" class=\"dataframe\">\n",
       "  <thead>\n",
       "    <tr style=\"text-align: right;\">\n",
       "      <th></th>\n",
       "      <th>年份</th>\n",
       "      <th>申请量</th>\n",
       "    </tr>\n",
       "  </thead>\n",
       "  <tbody>\n",
       "    <tr>\n",
       "      <th>0</th>\n",
       "      <td>1964-01-01</td>\n",
       "      <td>1</td>\n",
       "    </tr>\n",
       "    <tr>\n",
       "      <th>1</th>\n",
       "      <td>1966-01-01</td>\n",
       "      <td>4</td>\n",
       "    </tr>\n",
       "    <tr>\n",
       "      <th>2</th>\n",
       "      <td>1967-01-01</td>\n",
       "      <td>22</td>\n",
       "    </tr>\n",
       "    <tr>\n",
       "      <th>3</th>\n",
       "      <td>1969-01-01</td>\n",
       "      <td>17</td>\n",
       "    </tr>\n",
       "    <tr>\n",
       "      <th>4</th>\n",
       "      <td>1970-01-01</td>\n",
       "      <td>69</td>\n",
       "    </tr>\n",
       "  </tbody>\n",
       "</table>\n",
       "</div>"
      ],
      "text/plain": [
       "          年份  申请量\n",
       "0 1964-01-01    1\n",
       "1 1966-01-01    4\n",
       "2 1967-01-01   22\n",
       "3 1969-01-01   17\n",
       "4 1970-01-01   69"
      ]
     },
     "execution_count": 3,
     "metadata": {},
     "output_type": "execute_result"
    }
   ],
   "source": [
    "data_211.head()"
   ]
  },
  {
   "cell_type": "code",
   "execution_count": 4,
   "metadata": {},
   "outputs": [
    {
     "data": {
      "image/png": "[encoded data removed]",
      "text/plain": [
       "<Figure size 432x288 with 1 Axes>"
      ]
     },
     "metadata": {
      "needs_background": "light"
     },
     "output_type": "display_data"
    }
   ],
   "source": [
    "years_ticks = [1964, 1973, 1982, 1991, 2000, 2009]\n",
    "amount_ticks = [0, 30, 60, 90, 120]\n",
    "\n",
    "fig, ax = plt.subplots(tight_layout=True)\n",
    "ax.plot(data_211['年份'], data_211['申请量'],\n",
    "        color='orange', lw=3)\n",
    "\n",
    "ax.set_xlabel('年份', fontsize=14)\n",
    "ax.set_ylabel('申请量/项', fontsize=14)\n",
    "ax.set_xticks([datetime(year,1,1) for year in years_ticks], \n",
    "              [str(year) for year in years_ticks])\n",
    "ax.set_yticks(amount_ticks)\n",
    "ax.set_xlim([datetime(1964,1,1), datetime(2009,1,1)])\n",
    "ax.set_ylim([0, 120])\n",
    "ax.spines[['top', 'right']].set_visible(False)\n",
    "ax.spines[['left', 'bottom']].set_color('grey')\n",
    "ax.tick_params(color='grey', labelsize=12)\n",
    "\n",
    "fig.supxlabel('图2-1-1 标准折线图——PAN基碳纤维生产工艺全球专利申请量趋势', fontsize=12, y=0.05);\n"
   ]
  },
  {
   "cell_type": "code",
   "execution_count": null,
   "metadata": {},
   "outputs": [],
   "source": []
  }
 ],
 "metadata": {
  "interpreter": {
   "hash": "01204a81f956c4f5269f326c4355a3aca2159634fde800bdf397beb31e5ba1b1"
  },
  "kernelspec": {
   "display_name": "Python 3 (ipykernel)",
   "language": "python",
   "name": "python3"
  },
  "language_info": {
   "codemirror_mode": {
    "name": "ipython",
    "version": 3
   },
   "file_extension": ".py",
   "mimetype": "text/x-python",
   "name": "python",
   "nbconvert_exporter": "python",
   "pygments_lexer": "ipython3",
   "version": "3.9.10"
  }
 },
 "nbformat": 4,
 "nbformat_minor": 4
}
