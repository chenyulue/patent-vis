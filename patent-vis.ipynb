{
 "cells": [
  {
   "cell_type": "code",
   "execution_count": 1,
   "metadata": {},
   "outputs": [],
   "source": [
    "# 导入专利可视化程序包\n",
    "import pandas as pd\n",
    "import matplotlib.pyplot as plt"
   ]
  },
  {
   "cell_type": "code",
   "execution_count": 24,
   "metadata": {},
   "outputs": [],
   "source": [
    "# 读取数据为DataFrame\n",
    "gaa = pd.read_excel('gaa.xlsx', \n",
    "                    header=0, \n",
    "                    index_col=0, \n",
    "                    parse_dates=[2, 6, 28, 29, 162, 168, 169, 173, 174])"
   ]
  },
  {
   "cell_type": "markdown",
   "metadata": {},
   "source": [
    "# 第一部分 专利态势分析\n",
    "所谓专利态势分析，即对某一行业或技术领域的专利总体状况进行分析，通常是针对专利数量进行统计分析。基本的专利数量统计分析包括：\n",
    "* 申请趋势分析\n",
    "* 技术构成分析\n",
    "* 地域分布分析\n",
    "* 申请人排名分析"
   ]
  },
  {
   "cell_type": "markdown",
   "metadata": {},
   "source": [
    "## 一、申请趋势分析\n",
    "申请趋势分析常见的分析对象：\n",
    "* 申请量\n",
    "* 授权量\n",
    "* 有效量\n",
    "* 发明人数量\n",
    "* 申请人数量\n",
    "  \n",
    "申请趋势分析常用图表：\n",
    "* 折线图\n",
    "* 面积图\n",
    "* 柱形图\n",
    "  \n",
    "其中，折线图和面积图侧重表示较长时间段内的数量变化趋势，而柱形图侧重表示在短时间段内的数量变化情况，并突出每一个时间段的具体数量值。"
   ]
  },
  {
   "cell_type": "markdown",
   "metadata": {},
   "source": [
    "### 1. 折线图\n",
    "#### （1）标准折线图"
   ]
  },
  {
   "cell_type": "markdown",
   "metadata": {},
   "source": []
  },
  {
   "cell_type": "code",
   "execution_count": null,
   "metadata": {},
   "outputs": [],
   "source": []
  }
 ],
 "metadata": {
  "interpreter": {
   "hash": "01204a81f956c4f5269f326c4355a3aca2159634fde800bdf397beb31e5ba1b1"
  },
  "kernelspec": {
   "display_name": "Python 3.9.10 64-bit",
   "language": "python",
   "name": "python3"
  },
  "language_info": {
   "codemirror_mode": {
    "name": "ipython",
    "version": 3
   },
   "file_extension": ".py",
   "mimetype": "text/x-python",
   "name": "python",
   "nbconvert_exporter": "python",
   "pygments_lexer": "ipython3",
   "version": "3.9.10"
  },
  "orig_nbformat": 4
 },
 "nbformat": 4,
 "nbformat_minor": 2
}
